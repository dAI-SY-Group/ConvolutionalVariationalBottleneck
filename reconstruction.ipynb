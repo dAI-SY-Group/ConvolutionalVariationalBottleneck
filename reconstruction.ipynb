{
 "cells": [
  {
   "cell_type": "code",
   "execution_count": 1,
   "metadata": {},
   "outputs": [],
   "source": [
    "import warnings\n",
    "warnings.filterwarnings('ignore')\n",
    "import random\n",
    "\n",
    "from src.data import load_victim_data\n",
    "from src.utils import build_config, update_config, get_device, set_seeds, show_multiple\n",
    "from src.models.modelzoo import get_model\n",
    "from src.attacks import get_attack"
   ]
  },
  {
   "cell_type": "markdown",
   "metadata": {},
   "source": [
    "# Set the scenario\n",
    "Feel free to adjust the parameters and explore some different scenarios.\n",
    "\n",
    "Note: If DEBUG_RUN is set to True, the attacks will only do a maximum of 150 attack iterations to save time. The differences between the attacks can still be observed for some cases."
   ]
  },
  {
   "cell_type": "code",
   "execution_count": 2,
   "metadata": {},
   "outputs": [
    {
     "name": "stdout",
     "output_type": "stream",
     "text": [
      "GPU : Tesla V100-SXM2-16GB\n"
     ]
    }
   ],
   "source": [
    "#DATASET = 'MNIST'\n",
    "DATASET = 'CIFAR10'\n",
    "#DATASET = 'MedMNISTBlood'\n",
    "#DATASET = 'MedMNISTDerma'\n",
    "#DATASET = 'MedMNISTPneumonia'\n",
    "#DATASET = 'MedMNISTRetina'\n",
    "\n",
    "MODEL = 'CNN' \n",
    "#MODEL = 'ViT' \n",
    "#MODEL = 'ResNet18'\n",
    "\n",
    "\n",
    "#ATTACK = 'iDLG'\n",
    "ATTACK = 'IG'\n",
    "#ATTACK = 'CPL'\n",
    "\n",
    "VICTIM_BATCHSIZE = 1\n",
    "NUM_BATCHES = 3\n",
    "NUM_SAMPLES = VICTIM_BATCHSIZE * NUM_BATCHES # should not exceed victim dataset size of 128\n",
    "\n",
    "SEED = 42\n",
    "DEBUG_RUN = True\n",
    "DEVICE = get_device()"
   ]
  },
  {
   "cell_type": "markdown",
   "metadata": {},
   "source": [
    "### Load and set configurations for training scenario, dataset and attack"
   ]
  },
  {
   "cell_type": "code",
   "execution_count": 3,
   "metadata": {},
   "outputs": [],
   "source": [
    "config = build_config('configs/main_config.yaml')\n",
    "training_config = build_config('./configs/fedavg.yaml')\n",
    "config = update_config(config, training_config)\n",
    "attack_config = build_config(f'./configs/attacks/{ATTACK}.yaml')\n",
    "config = update_config(config, attack_config)\n",
    "data_config = build_config(f'./configs/data/{DATASET}.yaml')\n",
    "config = update_config(config, data_config)\n",
    "\n",
    "config.seed = SEED\n",
    "config.debug = DEBUG_RUN\n",
    "config.attack.num_samples = NUM_SAMPLES\n",
    "config.attack.num_batches = NUM_BATCHES\n",
    "config.attack.victim_batchsize = VICTIM_BATCHSIZE\n",
    "config.device = DEVICE\n",
    "config.experiment_name = f'{DATASET}_{MODEL}_{ATTACK}_seed{SEED}'\n"
   ]
  },
  {
   "cell_type": "markdown",
   "metadata": {},
   "source": [
    "### Load victim dataset and select a few random images for demonstration"
   ]
  },
  {
   "cell_type": "code",
   "execution_count": 4,
   "metadata": {},
   "outputs": [
    {
     "name": "stdout",
     "output_type": "stream",
     "text": [
      "Loaded victim data from ./data/victim_datasets/CIFAR10_128.tdump!\n",
      "Loaded victim dataset CIFAR10 with batchsize 1. Data samples are of shape torch.Size([3, 32, 32]).\n",
      "Seed was set to 42\n"
     ]
    },
    {
     "data": {
      "image/png": "[encoded data removed]",
      "text/plain": [
       "<Figure size 450x150 with 3 Axes>"
      ]
     },
     "metadata": {},
     "output_type": "display_data"
    }
   ],
   "source": [
    "victim_inputs, victim_targets, data_shape = load_victim_data(f'./data/victim_datasets/{DATASET}_128.tdump', VICTIM_BATCHSIZE)\n",
    "print(f'Loaded victim dataset {DATASET} with batchsize {VICTIM_BATCHSIZE}. Data samples are of shape {data_shape}.')\n",
    "#show_multiple(victim_inputs, 16, 8, img_scale=DATASET) # SHOW WHOLE VICTIM DATASET\n",
    "\n",
    "\n",
    "set_seeds(SEED)\n",
    "assert NUM_SAMPLES <= 128\n",
    "selection = random.sample(range(len(victim_targets)), NUM_BATCHES)\n",
    "\n",
    "selected_vicitm_inputs = [victim_inputs[i] for i in selection]\n",
    "selected_vicitm_targets = [victim_targets[i] for i in selection]\n",
    "\n",
    "original_imgs = []\n",
    "for img_batch in selected_vicitm_inputs:\n",
    "    original_imgs.extend(img_batch.split(1))\n",
    "show_multiple(original_imgs, NUM_SAMPLES, 1, img_scale=DATASET, figsize=(NUM_SAMPLES, 1))"
   ]
  },
  {
   "cell_type": "markdown",
   "metadata": {},
   "source": [
    "# Attack Demo"
   ]
  },
  {
   "cell_type": "markdown",
   "metadata": {},
   "source": [
    "##  Baseline attack and the baseline model"
   ]
  },
  {
   "cell_type": "markdown",
   "metadata": {},
   "source": [
    "### Get the model (baseline)"
   ]
  },
  {
   "cell_type": "code",
   "execution_count": 5,
   "metadata": {},
   "outputs": [
    {
     "name": "stdout",
     "output_type": "stream",
     "text": [
      "Loaded model with CNN architecture, input shape [3, 32, 32], 10 classes.\n",
      "Setting the models checkpoint path to ./checkpoints/CIFAR10_CNN_IG_seed42.ckpt\n"
     ]
    },
    {
     "data": {
      "text/plain": [
       "CNN(\n",
       "  (conv_layers): ModuleList(\n",
       "    (0): CNNBlock(\n",
       "      (conv): Conv2d(3, 16, kernel_size=(5, 5), stride=(2, 2), padding=valid)\n",
       "      (activation_function): ReLU()\n",
       "    )\n",
       "    (1): CNNBlock(\n",
       "      (conv): Conv2d(16, 32, kernel_size=(5, 5), stride=(2, 2), padding=valid)\n",
       "      (activation_function): ReLU()\n",
       "    )\n",
       "    (2): CNNBlock(\n",
       "      (conv): Conv2d(32, 64, kernel_size=(5, 5), stride=(2, 2), padding=valid)\n",
       "      (activation_function): ReLU()\n",
       "    )\n",
       "  )\n",
       "  (mlp_layers): ModuleList(\n",
       "    (0): MLPBlock(\n",
       "      (linear): Linear(in_features=64, out_features=10, bias=True)\n",
       "      (regularization_layers): ModuleList()\n",
       "    )\n",
       "  )\n",
       ")"
      ]
     },
     "execution_count": 5,
     "metadata": {},
     "output_type": "execute_result"
    }
   ],
   "source": [
    "model_config = build_config(f'./configs/models/{MODEL}.yaml')\n",
    "config = update_config(config, model_config)\n",
    "\n",
    "model = get_model(config.model.name, config)\n",
    "model = model.to(config.device)\n",
    "model"
   ]
  },
  {
   "cell_type": "markdown",
   "metadata": {},
   "source": [
    "### Attack"
   ]
  },
  {
   "cell_type": "code",
   "execution_count": 6,
   "metadata": {},
   "outputs": [
    {
     "name": "stdout",
     "output_type": "stream",
     "text": [
      "Victim batchsize: 1\n",
      "Max iterations: 150\n"
     ]
    },
    {
     "name": "stdout",
     "output_type": "stream",
     "text": [
      "________________________________________________________\n",
      "Attacking victim batch 0!\n",
      "Using Adam optimizer with learning rate 1\n",
      "Reconstruction was stopped after 150 iterations for batch 0 trial 0\n",
      "Execution of attack_batch took 1120.98 ms.\n",
      "The reconstruction reached a mean MSE score of 0.029038.\n",
      "The reconstruction reached a mean PSNR score of 15.37026.\n",
      "The reconstruction reached a mean SSIM score of 0.52578.\n",
      "The reconstruction reached a mean LPIPS score of 0.43631.\n",
      "The reconstruction reached a best reconstruction loss of 0.1078432 after 72 iterations.\n",
      "Attacking victim batch 1!\n",
      "Using Adam optimizer with learning rate 1\n",
      "Reconstruction was stopped after 150 iterations for batch 1 trial 0\n",
      "Execution of attack_batch took 1303.29 ms.\n",
      "The reconstruction reached a mean MSE score of 0.038611.\n",
      "The reconstruction reached a mean PSNR score of 14.13295.\n",
      "The reconstruction reached a mean SSIM score of 0.52349.\n",
      "The reconstruction reached a mean LPIPS score of 0.44611.\n",
      "The reconstruction reached a best reconstruction loss of 0.1701115 after 121 iterations.\n",
      "Attacking victim batch 2!\n",
      "Using Adam optimizer with learning rate 1\n",
      "Reconstruction was stopped after 150 iterations for batch 2 trial 0\n",
      "Execution of attack_batch took 1309.54 ms.\n",
      "The reconstruction reached a mean MSE score of 0.015157.\n",
      "The reconstruction reached a mean PSNR score of 18.19374.\n",
      "The reconstruction reached a mean SSIM score of 0.43825.\n",
      "The reconstruction reached a mean LPIPS score of 0.39620.\n",
      "The reconstruction reached a best reconstruction loss of 0.1004656 after 86 iterations.\n",
      "Execution of attack took 0.09 minutes.\n"
     ]
    }
   ],
   "source": [
    "if DEBUG_RUN:\n",
    "    config.attack.max_iterations = 150\n",
    "attacker = get_attack(config.attack.name, config.data.dataset, model, selected_vicitm_inputs, selected_vicitm_targets, config)\n",
    "print('________________________________________________________')\n",
    "reconstructions, results = attacker.attack()"
   ]
  },
  {
   "cell_type": "code",
   "execution_count": 7,
   "metadata": {},
   "outputs": [
    {
     "name": "stdout",
     "output_type": "stream",
     "text": [
      "________________________________________________________\n",
      "Originals:\n"
     ]
    },
    {
     "data": {
      "image/png": "[encoded data removed]",
      "text/plain": [
       "<Figure size 450x150 with 3 Axes>"
      ]
     },
     "metadata": {},
     "output_type": "display_data"
    },
    {
     "name": "stdout",
     "output_type": "stream",
     "text": [
      "Reconstructions:\n"
     ]
    },
    {
     "data": {
      "image/png": "[encoded data removed]",
      "text/plain": [
       "<Figure size 450x150 with 3 Axes>"
      ]
     },
     "metadata": {},
     "output_type": "display_data"
    }
   ],
   "source": [
    "reconstructed_images = []\n",
    "for b in range(NUM_BATCHES):\n",
    "    reconstructed_images.extend(reconstructions[b]['Reconstructions'].split(1))\n",
    "print('________________________________________________________')\n",
    "print('Originals:')\n",
    "show_multiple(original_imgs, NUM_SAMPLES, 1, img_scale = DATASET, figsize=(NUM_SAMPLES, 1))\n",
    "print('Reconstructions:')\n",
    "show_multiple(reconstructed_images, NUM_SAMPLES, 1, img_scale = DATASET, figsize=(NUM_SAMPLES, 1))"
   ]
  },
  {
   "cell_type": "markdown",
   "metadata": {},
   "source": [
    "## Baseline attack extended with our proposed \"Ignore\" attack and the CVB protected model"
   ]
  },
  {
   "cell_type": "markdown",
   "metadata": {},
   "source": [
    "### Get the model (CVB protected)"
   ]
  },
  {
   "cell_type": "code",
   "execution_count": 8,
   "metadata": {},
   "outputs": [
    {
     "name": "stdout",
     "output_type": "stream",
     "text": [
      "Loaded model with VBCNN architecture, input shape [3, 32, 32], 10 classes.\n",
      "Setting the models checkpoint path to ./checkpoints/CIFAR10_CNN_IG_seed42.ckpt\n"
     ]
    },
    {
     "data": {
      "text/plain": [
       "VBCNN(\n",
       "  (conv_layers): ModuleList(\n",
       "    (0): CNNBlock(\n",
       "      (conv): Conv2d(3, 16, kernel_size=(5, 5), stride=(2, 2), padding=valid)\n",
       "      (activation_function): ReLU()\n",
       "    )\n",
       "    (1): CNNBlock(\n",
       "      (conv): Conv2d(16, 32, kernel_size=(5, 5), stride=(2, 2), padding=valid)\n",
       "      (activation_function): ReLU()\n",
       "    )\n",
       "    (2): CNNBlock(\n",
       "      (conv): Conv2d(32, 64, kernel_size=(5, 5), stride=(2, 2), padding=valid)\n",
       "      (activation_function): ReLU()\n",
       "    )\n",
       "  )\n",
       "  (mlp_layers): ModuleList(\n",
       "    (0): MLPBlock(\n",
       "      (linear): Linear(in_features=64, out_features=10, bias=True)\n",
       "      (regularization_layers): ModuleList()\n",
       "    )\n",
       "  )\n",
       "  (VB_list): ModuleList(\n",
       "    (0): FullyConvolutionalVariationalBottleneck(\n",
       "      (encoder): ConvolutionalVariationalEncoder(\n",
       "        (mu_encoder): Conv2d(16, 8, kernel_size=(5, 5), stride=(1, 1), padding=same, bias=False)\n",
       "        (std_encoder): Conv2d(16, 8, kernel_size=(5, 5), stride=(1, 1), padding=same, bias=False)\n",
       "      )\n",
       "      (decoder): ConvolutionalVariationalDecoder(\n",
       "        (decoder): Conv2d(8, 16, kernel_size=(1, 1), stride=(1, 1), bias=False)\n",
       "      )\n",
       "    )\n",
       "    (1): None\n",
       "    (2): None\n",
       "    (3): None\n",
       "  )\n",
       ")"
      ]
     },
     "execution_count": 8,
     "metadata": {},
     "output_type": "execute_result"
    }
   ],
   "source": [
    "model_config = build_config(f'./configs/models/{MODEL}CVB.yaml')\n",
    "config = update_config(config, model_config)\n",
    "\n",
    "model = get_model(config.model.name, config)\n",
    "model = model.to(config.device)\n",
    "model"
   ]
  },
  {
   "cell_type": "markdown",
   "metadata": {},
   "source": [
    "### Attack"
   ]
  },
  {
   "cell_type": "code",
   "execution_count": 9,
   "metadata": {},
   "outputs": [
    {
     "name": "stdout",
     "output_type": "stream",
     "text": [
      "Victim batchsize: 1\n",
      "Max iterations: 150\n"
     ]
    },
    {
     "name": "stdout",
     "output_type": "stream",
     "text": [
      "________________________________________________________\n",
      "Attacking victim batch 0!\n",
      "Using Adam optimizer with learning rate 1\n",
      "Reconstruction was stopped after 150 iterations for batch 0 trial 0\n",
      "Execution of attack_batch took 1635.18 ms.\n",
      "The reconstruction reached a mean MSE score of 0.095376.\n",
      "The reconstruction reached a mean PSNR score of 10.20561.\n",
      "The reconstruction reached a mean SSIM score of 0.24057.\n",
      "The reconstruction reached a mean LPIPS score of 0.56435.\n",
      "The reconstruction reached a best reconstruction loss of 0.2593712 after 112 iterations.\n",
      "Attacking victim batch 1!\n",
      "Using Adam optimizer with learning rate 1\n",
      "Reconstruction was stopped after 150 iterations for batch 1 trial 0\n",
      "Execution of attack_batch took 1722.83 ms.\n",
      "The reconstruction reached a mean MSE score of 0.118985.\n",
      "The reconstruction reached a mean PSNR score of 9.24506.\n",
      "The reconstruction reached a mean SSIM score of 0.28240.\n",
      "The reconstruction reached a mean LPIPS score of 0.59730.\n",
      "The reconstruction reached a best reconstruction loss of 0.4237383 after 101 iterations.\n",
      "Attacking victim batch 2!\n",
      "Using Adam optimizer with learning rate 1\n",
      "Reconstruction was stopped after 150 iterations for batch 2 trial 0\n",
      "Execution of attack_batch took 1717.04 ms.\n",
      "The reconstruction reached a mean MSE score of 0.065001.\n",
      "The reconstruction reached a mean PSNR score of 11.87081.\n",
      "The reconstruction reached a mean SSIM score of 0.13544.\n",
      "The reconstruction reached a mean LPIPS score of 0.58401.\n",
      "The reconstruction reached a best reconstruction loss of 0.2454635 after 102 iterations.\n",
      "Execution of attack took 0.09 minutes.\n"
     ]
    }
   ],
   "source": [
    "attacker.max_iterations\n",
    "attacker = get_attack(config.attack.name, config.data.dataset, model, selected_vicitm_inputs, selected_vicitm_targets, config)\n",
    "print('________________________________________________________')\n",
    "reconstructions, results = attacker.attack()"
   ]
  },
  {
   "cell_type": "code",
   "execution_count": 10,
   "metadata": {},
   "outputs": [
    {
     "name": "stdout",
     "output_type": "stream",
     "text": [
      "________________________________________________________\n",
      "Originals:\n"
     ]
    },
    {
     "data": {
      "image/png": "[encoded data removed]",
      "text/plain": [
       "<Figure size 450x150 with 3 Axes>"
      ]
     },
     "metadata": {},
     "output_type": "display_data"
    },
    {
     "name": "stdout",
     "output_type": "stream",
     "text": [
      "Reconstructions:\n"
     ]
    },
    {
     "data": {
      "image/png": "[encoded data removed]",
      "text/plain": [
       "<Figure size 450x150 with 3 Axes>"
      ]
     },
     "metadata": {},
     "output_type": "display_data"
    }
   ],
   "source": [
    "reconstructed_images = []\n",
    "for b in range(NUM_BATCHES):\n",
    "    reconstructed_images.extend(reconstructions[b]['Reconstructions'].split(1))\n",
    "print('________________________________________________________')\n",
    "print('Originals:')\n",
    "show_multiple(original_imgs, NUM_SAMPLES, 1, img_scale = DATASET, figsize=(NUM_SAMPLES, 1))\n",
    "print('Reconstructions:')\n",
    "show_multiple(reconstructed_images, NUM_SAMPLES, 1, img_scale = DATASET, figsize=(NUM_SAMPLES, 1))"
   ]
  },
  {
   "cell_type": "markdown",
   "metadata": {},
   "source": [
    "## Baseline attack (without our \"Ignore\" mechanism) and CVB protected model"
   ]
  },
  {
   "cell_type": "markdown",
   "metadata": {},
   "source": [
    "### Get the model (CVB protected)"
   ]
  },
  {
   "cell_type": "code",
   "execution_count": 11,
   "metadata": {},
   "outputs": [
    {
     "name": "stdout",
     "output_type": "stream",
     "text": [
      "Loaded model with VBCNN architecture, input shape [3, 32, 32], 10 classes.\n",
      "Setting the models checkpoint path to ./checkpoints/CIFAR10_CNN_IG_seed42.ckpt\n"
     ]
    },
    {
     "data": {
      "text/plain": [
       "VBCNN(\n",
       "  (conv_layers): ModuleList(\n",
       "    (0): CNNBlock(\n",
       "      (conv): Conv2d(3, 16, kernel_size=(5, 5), stride=(2, 2), padding=valid)\n",
       "      (activation_function): ReLU()\n",
       "    )\n",
       "    (1): CNNBlock(\n",
       "      (conv): Conv2d(16, 32, kernel_size=(5, 5), stride=(2, 2), padding=valid)\n",
       "      (activation_function): ReLU()\n",
       "    )\n",
       "    (2): CNNBlock(\n",
       "      (conv): Conv2d(32, 64, kernel_size=(5, 5), stride=(2, 2), padding=valid)\n",
       "      (activation_function): ReLU()\n",
       "    )\n",
       "  )\n",
       "  (mlp_layers): ModuleList(\n",
       "    (0): MLPBlock(\n",
       "      (linear): Linear(in_features=64, out_features=10, bias=True)\n",
       "      (regularization_layers): ModuleList()\n",
       "    )\n",
       "  )\n",
       "  (VB_list): ModuleList(\n",
       "    (0): FullyConvolutionalVariationalBottleneck(\n",
       "      (encoder): ConvolutionalVariationalEncoder(\n",
       "        (mu_encoder): Conv2d(16, 8, kernel_size=(5, 5), stride=(1, 1), padding=same, bias=False)\n",
       "        (std_encoder): Conv2d(16, 8, kernel_size=(5, 5), stride=(1, 1), padding=same, bias=False)\n",
       "      )\n",
       "      (decoder): ConvolutionalVariationalDecoder(\n",
       "        (decoder): Conv2d(8, 16, kernel_size=(1, 1), stride=(1, 1), bias=False)\n",
       "      )\n",
       "    )\n",
       "    (1): None\n",
       "    (2): None\n",
       "    (3): None\n",
       "  )\n",
       ")"
      ]
     },
     "execution_count": 11,
     "metadata": {},
     "output_type": "execute_result"
    }
   ],
   "source": [
    "model_config = build_config(f'./configs/models/{MODEL}CVB.yaml')\n",
    "config = update_config(config, model_config)\n",
    "\n",
    "model = get_model(config.model.name, config)\n",
    "model = model.to(config.device)\n",
    "model"
   ]
  },
  {
   "cell_type": "markdown",
   "metadata": {},
   "source": [
    "### Attack"
   ]
  },
  {
   "cell_type": "code",
   "execution_count": 12,
   "metadata": {},
   "outputs": [
    {
     "name": "stdout",
     "output_type": "stream",
     "text": [
      "Victim batchsize: 1\n",
      "Max iterations: 150\n"
     ]
    },
    {
     "name": "stdout",
     "output_type": "stream",
     "text": [
      "________________________________________________________\n",
      "Attacking victim batch 0!\n",
      "Using Adam optimizer with learning rate 1\n",
      "Reconstruction was stopped after 150 iterations for batch 0 trial 0\n",
      "Execution of attack_batch took 2043.46 ms.\n",
      "The reconstruction reached a mean MSE score of 0.145067.\n",
      "The reconstruction reached a mean PSNR score of 8.38432.\n",
      "The reconstruction reached a mean SSIM score of 0.06925.\n",
      "The reconstruction reached a mean LPIPS score of 0.54012.\n",
      "The reconstruction reached a best reconstruction loss of 0.5998054 after 93 iterations.\n",
      "Attacking victim batch 1!\n",
      "Using Adam optimizer with learning rate 1\n",
      "Reconstruction was stopped after 150 iterations for batch 1 trial 0\n",
      "Execution of attack_batch took 2039.58 ms.\n",
      "The reconstruction reached a mean MSE score of 0.139719.\n",
      "The reconstruction reached a mean PSNR score of 8.54743.\n",
      "The reconstruction reached a mean SSIM score of 0.11671.\n",
      "The reconstruction reached a mean LPIPS score of 0.63534.\n",
      "The reconstruction reached a best reconstruction loss of 0.6479798 after 97 iterations.\n",
      "Attacking victim batch 2!\n",
      "Using Adam optimizer with learning rate 1\n",
      "Reconstruction was stopped after 150 iterations for batch 2 trial 0\n",
      "Execution of attack_batch took 2097.57 ms.\n",
      "The reconstruction reached a mean MSE score of 0.138058.\n",
      "The reconstruction reached a mean PSNR score of 8.59939.\n",
      "The reconstruction reached a mean SSIM score of 0.06487.\n",
      "The reconstruction reached a mean LPIPS score of 0.65268.\n",
      "The reconstruction reached a best reconstruction loss of 0.6388408 after 93 iterations.\n",
      "Execution of attack took 0.10 minutes.\n"
     ]
    }
   ],
   "source": [
    "if DEBUG_RUN:\n",
    "    attacker.max_iterations = 150\n",
    "config.attack.ignore_gradient_layers = []\n",
    "attacker = get_attack(config.attack.name, config.data.dataset, model, selected_vicitm_inputs, selected_vicitm_targets, config)\n",
    "print('________________________________________________________')\n",
    "reconstructions, results = attacker.attack()"
   ]
  },
  {
   "cell_type": "code",
   "execution_count": 13,
   "metadata": {},
   "outputs": [
    {
     "name": "stdout",
     "output_type": "stream",
     "text": [
      "________________________________________________________\n",
      "Originals:\n"
     ]
    },
    {
     "data": {
      "image/png": "[encoded data removed]",
      "text/plain": [
       "<Figure size 450x150 with 3 Axes>"
      ]
     },
     "metadata": {},
     "output_type": "display_data"
    },
    {
     "name": "stdout",
     "output_type": "stream",
     "text": [
      "Reconstructions:\n"
     ]
    },
    {
     "data": {
      "image/png": "[encoded data removed]",
      "text/plain": [
       "<Figure size 450x150 with 3 Axes>"
      ]
     },
     "metadata": {},
     "output_type": "display_data"
    }
   ],
   "source": [
    "reconstructed_images = []\n",
    "for b in range(NUM_BATCHES):\n",
    "    reconstructed_images.extend(reconstructions[b]['Reconstructions'].split(1))\n",
    "print('________________________________________________________')\n",
    "print('Originals:')\n",
    "show_multiple(original_imgs, NUM_SAMPLES, 1, img_scale = DATASET, figsize=(NUM_SAMPLES, 1))\n",
    "print('Reconstructions:')\n",
    "show_multiple(reconstructed_images, NUM_SAMPLES, 1, img_scale = DATASET, figsize=(NUM_SAMPLES, 1))"
   ]
  }
 ],
 "metadata": {
  "kernelspec": {
   "display_name": "torch2",
   "language": "python",
   "name": "python3"
  },
  "language_info": {
   "codemirror_mode": {
    "name": "ipython",
    "version": 3
   },
   "file_extension": ".py",
   "mimetype": "text/x-python",
   "name": "python",
   "nbconvert_exporter": "python",
   "pygments_lexer": "ipython3",
   "version": "3.11.3"
  },
  "orig_nbformat": 4
 },
 "nbformat": 4,
 "nbformat_minor": 2
}
